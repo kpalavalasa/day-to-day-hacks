{
 "cells": [
  {
   "cell_type": "code",
   "execution_count": 89,
   "metadata": {},
   "outputs": [],
   "source": [
    "import requests\n",
    "from bs4 import BeautifulSoup\n",
    "from os import path"
   ]
  },
  {
   "cell_type": "code",
   "execution_count": 90,
   "metadata": {},
   "outputs": [],
   "source": [
    "url = 'https://cs230.stanford.edu/files/'\n",
    "file_extension = 'pdf'\n",
    "target_location = r\"C:\\Users\\AL884YZ\\Documents\\ML\\DL\\Class PPTs\""
   ]
  },
  {
   "cell_type": "code",
   "execution_count": 91,
   "metadata": {},
   "outputs": [],
   "source": [
    "def get_all_fillinks():\n",
    "    r = requests.get(url)\n",
    "    soup = BeautifulSoup(r.content, 'html5lib')\n",
    "    links = soup.findAll('a')\n",
    "    pdf_links = [url + link['href'] for link in links if link['href'].endswith(file_extension)]\n",
    "    return pdf_links"
   ]
  },
  {
   "cell_type": "code",
   "execution_count": 92,
   "metadata": {},
   "outputs": [],
   "source": [
    "def download_files(pdf_links):\n",
    "    for link in pdf_links:\n",
    "        file_name = link.split('/')[-1]\n",
    "        target_filename = target_location +\"\\\\\"+ file_name\n",
    "        r = requests.get(link, stream =True)\n",
    "        if not path.exists(target_filename):\n",
    "            print(\"Downloading file:\",target_filename)\n",
    "            with open(target_filename, 'wb') as f:\n",
    "                for chunk in r.iter_content(chunk_size = 1024*1024):\n",
    "                    if chunk:\n",
    "                        f.write(chunk)\n",
    "            print(\"Downloaded:\", file_name)\n",
    "        else:\n",
    "            print(target_filename, \" already exist. Skipping to next file\")\n",
    "    return"
   ]
  },
  {
   "cell_type": "code",
   "execution_count": 93,
   "metadata": {},
   "outputs": [],
   "source": [
    "def main():\n",
    "    print(\"..........STARTED...............\")\n",
    "    file_links = get_all_fillinks()\n",
    "    download_files(file_links)\n",
    "    print(\"..........COMPLETED................\")"
   ]
  },
  {
   "cell_type": "code",
   "execution_count": 94,
   "metadata": {},
   "outputs": [
    {
     "name": "stdout",
     "output_type": "stream",
     "text": [
      "..........STARTED...............\n",
      "C:\\Users\\AL884YZ\\Documents\\ML\\DL\\Class PPTs\\C1M1.pdf  already exist. Skipping to next file\n",
      "C:\\Users\\AL884YZ\\Documents\\ML\\DL\\Class PPTs\\C1M2.pdf  already exist. Skipping to next file\n",
      "C:\\Users\\AL884YZ\\Documents\\ML\\DL\\Class PPTs\\C1M2_old.pdf  already exist. Skipping to next file\n",
      "C:\\Users\\AL884YZ\\Documents\\ML\\DL\\Class PPTs\\C1M3.pdf  already exist. Skipping to next file\n",
      "C:\\Users\\AL884YZ\\Documents\\ML\\DL\\Class PPTs\\C1M3_old.pdf  already exist. Skipping to next file\n",
      "C:\\Users\\AL884YZ\\Documents\\ML\\DL\\Class PPTs\\C1M4.pdf  already exist. Skipping to next file\n",
      "C:\\Users\\AL884YZ\\Documents\\ML\\DL\\Class PPTs\\C1M4_old.pdf  already exist. Skipping to next file\n",
      "C:\\Users\\AL884YZ\\Documents\\ML\\DL\\Class PPTs\\C2M1.pdf  already exist. Skipping to next file\n",
      "C:\\Users\\AL884YZ\\Documents\\ML\\DL\\Class PPTs\\C2M1_old.pdf  already exist. Skipping to next file\n",
      "C:\\Users\\AL884YZ\\Documents\\ML\\DL\\Class PPTs\\C2M2.pdf  already exist. Skipping to next file\n",
      "C:\\Users\\AL884YZ\\Documents\\ML\\DL\\Class PPTs\\C2M2_old.pdf  already exist. Skipping to next file\n",
      "C:\\Users\\AL884YZ\\Documents\\ML\\DL\\Class PPTs\\C2M3.pdf  already exist. Skipping to next file\n",
      "C:\\Users\\AL884YZ\\Documents\\ML\\DL\\Class PPTs\\C3M1.pdf  already exist. Skipping to next file\n",
      "C:\\Users\\AL884YZ\\Documents\\ML\\DL\\Class PPTs\\C3M2.pdf  already exist. Skipping to next file\n",
      "C:\\Users\\AL884YZ\\Documents\\ML\\DL\\Class PPTs\\C4M1.pdf  already exist. Skipping to next file\n",
      "C:\\Users\\AL884YZ\\Documents\\ML\\DL\\Class PPTs\\C4M1_old.pdf  already exist. Skipping to next file\n",
      "C:\\Users\\AL884YZ\\Documents\\ML\\DL\\Class PPTs\\C4M2.pdf  already exist. Skipping to next file\n",
      "C:\\Users\\AL884YZ\\Documents\\ML\\DL\\Class PPTs\\C4M2_old.pdf  already exist. Skipping to next file\n",
      "C:\\Users\\AL884YZ\\Documents\\ML\\DL\\Class PPTs\\C4M3.pdf  already exist. Skipping to next file\n",
      "C:\\Users\\AL884YZ\\Documents\\ML\\DL\\Class PPTs\\C4M4.pdf  already exist. Skipping to next file\n",
      "C:\\Users\\AL884YZ\\Documents\\ML\\DL\\Class PPTs\\C5M1.pdf  already exist. Skipping to next file\n",
      "C:\\Users\\AL884YZ\\Documents\\ML\\DL\\Class PPTs\\C5M2.pdf  already exist. Skipping to next file\n",
      "C:\\Users\\AL884YZ\\Documents\\ML\\DL\\Class PPTs\\C5M3.pdf  already exist. Skipping to next file\n",
      "C:\\Users\\AL884YZ\\Documents\\ML\\DL\\Class PPTs\\CS230_Midterm_Draft__spring_2018_.pdf  already exist. Skipping to next file\n",
      "C:\\Users\\AL884YZ\\Documents\\ML\\DL\\Class PPTs\\Deep%20Learning%20in%20Healthcare.pdf  already exist. Skipping to next file\n",
      "C:\\Users\\AL884YZ\\Documents\\ML\\DL\\Class PPTs\\Lecture9.pdf  already exist. Skipping to next file\n",
      "C:\\Users\\AL884YZ\\Documents\\ML\\DL\\Class PPTs\\Notation.pdf  already exist. Skipping to next file\n",
      "C:\\Users\\AL884YZ\\Documents\\ML\\DL\\Class PPTs\\Week1_slides.pdf  already exist. Skipping to next file\n",
      "C:\\Users\\AL884YZ\\Documents\\ML\\DL\\Class PPTs\\Week2_slides.pdf  already exist. Skipping to next file\n",
      "C:\\Users\\AL884YZ\\Documents\\ML\\DL\\Class PPTs\\Week2_slides_old.pdf  already exist. Skipping to next file\n",
      "C:\\Users\\AL884YZ\\Documents\\ML\\DL\\Class PPTs\\cs230exam_fall18.pdf  already exist. Skipping to next file\n",
      "C:\\Users\\AL884YZ\\Documents\\ML\\DL\\Class PPTs\\cs230exam_fall18_soln.pdf  already exist. Skipping to next file\n",
      "C:\\Users\\AL884YZ\\Documents\\ML\\DL\\Class PPTs\\cs230exam_fall19.pdf  already exist. Skipping to next file\n",
      "C:\\Users\\AL884YZ\\Documents\\ML\\DL\\Class PPTs\\cs230exam_fall19_soln.pdf  already exist. Skipping to next file\n",
      "C:\\Users\\AL884YZ\\Documents\\ML\\DL\\Class PPTs\\cs230exam_spr18.pdf  already exist. Skipping to next file\n",
      "C:\\Users\\AL884YZ\\Documents\\ML\\DL\\Class PPTs\\cs230exam_spr18_soln.pdf  already exist. Skipping to next file\n",
      "C:\\Users\\AL884YZ\\Documents\\ML\\DL\\Class PPTs\\cs230exam_win18.pdf  already exist. Skipping to next file\n",
      "C:\\Users\\AL884YZ\\Documents\\ML\\DL\\Class PPTs\\cs230exam_win18_soln.pdf  already exist. Skipping to next file\n",
      "C:\\Users\\AL884YZ\\Documents\\ML\\DL\\Class PPTs\\cs230exam_win19.pdf  already exist. Skipping to next file\n",
      "C:\\Users\\AL884YZ\\Documents\\ML\\DL\\Class PPTs\\cs230exam_win19_soln.pdf  already exist. Skipping to next file\n",
      "C:\\Users\\AL884YZ\\Documents\\ML\\DL\\Class PPTs\\formatting-instructions-cs230.pdf  already exist. Skipping to next file\n",
      "C:\\Users\\AL884YZ\\Documents\\ML\\DL\\Class PPTs\\lecture-notes-3-old.pdf  already exist. Skipping to next file\n",
      "C:\\Users\\AL884YZ\\Documents\\ML\\DL\\Class PPTs\\lecture-notes-3.pdf  already exist. Skipping to next file\n",
      "C:\\Users\\AL884YZ\\Documents\\ML\\DL\\Class PPTs\\lecture-notes-4.pdf  already exist. Skipping to next file\n",
      "C:\\Users\\AL884YZ\\Documents\\ML\\DL\\Class PPTs\\lecture-notes-5-old.pdf  already exist. Skipping to next file\n",
      "C:\\Users\\AL884YZ\\Documents\\ML\\DL\\Class PPTs\\lecture-notes-5.pdf  already exist. Skipping to next file\n",
      "C:\\Users\\AL884YZ\\Documents\\ML\\DL\\Class PPTs\\lecture-notes-6.pdf  already exist. Skipping to next file\n",
      "C:\\Users\\AL884YZ\\Documents\\ML\\DL\\Class PPTs\\lecture-notes-7-old.pdf  already exist. Skipping to next file\n",
      "C:\\Users\\AL884YZ\\Documents\\ML\\DL\\Class PPTs\\lecture-notes-7.pdf  already exist. Skipping to next file\n",
      "C:\\Users\\AL884YZ\\Documents\\ML\\DL\\Class PPTs\\lecture-notes-8.pdf  already exist. Skipping to next file\n",
      "C:\\Users\\AL884YZ\\Documents\\ML\\DL\\Class PPTs\\lecture-notes-9-old.pdf  already exist. Skipping to next file\n",
      "C:\\Users\\AL884YZ\\Documents\\ML\\DL\\Class PPTs\\lecture-notes-9.pdf  already exist. Skipping to next file\n",
      "C:\\Users\\AL884YZ\\Documents\\ML\\DL\\Class PPTs\\poster-guidelines.pdf  already exist. Skipping to next file\n",
      "..........COMPLETED................\n"
     ]
    }
   ],
   "source": [
    "if __name__ == \"__main__\":\n",
    "    main()"
   ]
  },
  {
   "cell_type": "code",
   "execution_count": null,
   "metadata": {},
   "outputs": [],
   "source": []
  }
 ],
 "metadata": {
  "kernelspec": {
   "display_name": "Python 3",
   "language": "python",
   "name": "python3"
  },
  "language_info": {
   "codemirror_mode": {
    "name": "ipython",
    "version": 3
   },
   "file_extension": ".py",
   "mimetype": "text/x-python",
   "name": "python",
   "nbconvert_exporter": "python",
   "pygments_lexer": "ipython3",
   "version": "3.7.7"
  }
 },
 "nbformat": 4,
 "nbformat_minor": 4
}
